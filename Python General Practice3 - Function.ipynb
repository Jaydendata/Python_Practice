{
  "cells": [
    {
      "cell_type": "markdown",
      "metadata": {},
      "source": [
        "    ## Common stuff"
      ]
    },
    {
      "cell_type": "code",
      "execution_count": 39,
      "metadata": {
        "trusted": true
      },
      "outputs": [
        {
          "name": "stdout",
          "output_type": "stream",
          "text": [
            "5000\n"
          ]
        }
      ],
      "source": [
        "x = 2000\n",
        "y = 3000\n",
        "print(x + y)"
      ]
    },
    {
      "cell_type": "code",
      "execution_count": 4,
      "metadata": {},
      "outputs": [
        {
          "data": {
            "text/plain": [
              "[9, 7, 6, 5, 3, 2, 1]"
            ]
          },
          "execution_count": 4,
          "metadata": {},
          "output_type": "execute_result"
        }
      ],
      "source": [
        "%store -r list1\n",
        "\n",
        "list1[::-1]"
      ]
    },
    {
      "cell_type": "markdown",
      "metadata": {},
      "source": [
        "    ## Dictionary"
      ]
    },
    {
      "cell_type": "code",
      "execution_count": 9,
      "metadata": {},
      "outputs": [],
      "source": [
        "import string"
      ]
    },
    {
      "cell_type": "code",
      "execution_count": 10,
      "metadata": {},
      "outputs": [
        {
          "name": "stdout",
          "output_type": "stream",
          "text": [
            "['a', 'b', 'c', 'd', 'e', 'f', 'g', 'h', 'i', 'j', 'k', 'l', 'm', 'n', 'o', 'p', 'q', 'r', 's', 't', 'u', 'v', 'w', 'x', 'y', 'z']\n"
          ]
        }
      ],
      "source": [
        "letter_list1 = list(string.ascii_lowercase)\n",
        "print(letter_list1)\n"
      ]
    },
    {
      "cell_type": "code",
      "execution_count": 11,
      "metadata": {},
      "outputs": [
        {
          "name": "stdout",
          "output_type": "stream",
          "text": [
            "['A', 'B', 'C', 'D', 'E', 'F', 'G', 'H', 'I', 'J', 'K', 'L', 'M', 'N', 'O', 'P', 'Q', 'R', 'S', 'T', 'U', 'V', 'W', 'X', 'Y', 'Z']\n"
          ]
        }
      ],
      "source": [
        "letter_list2 = list(string.ascii_uppercase)\n",
        "print(letter_list2)\n",
        "\n"
      ]
    },
    {
      "cell_type": "code",
      "execution_count": 12,
      "metadata": {},
      "outputs": [
        {
          "name": "stdout",
          "output_type": "stream",
          "text": [
            "{'a': 'A', 'b': 'B', 'c': 'C', 'd': 'D', 'e': 'E', 'f': 'F', 'g': 'G', 'h': 'H', 'i': 'I', 'j': 'J', 'k': 'K', 'l': 'L', 'm': 'M', 'n': 'N', 'o': 'O', 'p': 'P', 'q': 'Q', 'r': 'R', 's': 'S', 't': 'T', 'u': 'U', 'v': 'V', 'w': 'W', 'x': 'X', 'y': 'Y', 'z': 'Z'}\n",
            "{'a': 'A', 'b': 'B', 'c': 'C', 'd': 'D', 'e': 'E', 'f': 'F', 'g': 'G', 'h': 'H', 'i': 'I', 'j': 'J', 'k': 'K', 'l': 'L', 'm': 'M', 'n': 'N', 'o': 'O', 'p': 'P', 'q': 'Q', 'r': 'R', 's': 'S', 't': 'T', 'u': 'U', 'v': 'V', 'w': 'W', 'x': 'X', 'y': 'Y', 'z': 'Z'}\n"
          ]
        }
      ],
      "source": [
        "letter_dict = {letter_list1[indx]:letter_list2[indx] for indx in range(0,len(letter_list1))}\n",
        "print(letter_dict)\n",
        "\n",
        "\n",
        "\n",
        "\n",
        "letter_dict = {}\n",
        "indx = 0\n",
        "for k in letter_list1:\n",
        "    v = letter_list2[indx]\n",
        "    letter_dict[k] = v\n",
        "    indx += 1\n",
        "print(letter_dict)\n",
        "\n"
      ]
    },
    {
      "cell_type": "code",
      "execution_count": 13,
      "metadata": {},
      "outputs": [
        {
          "data": {
            "text/plain": [
              "'!\"#$%&\\'()*+,-./:;<=>?@[\\\\]^_`{|}~'"
            ]
          },
          "execution_count": 13,
          "metadata": {},
          "output_type": "execute_result"
        }
      ],
      "source": [
        "string.punctuation"
      ]
    },
    {
      "cell_type": "code",
      "execution_count": 31,
      "metadata": {},
      "outputs": [
        {
          "name": "stdout",
          "output_type": "stream",
          "text": [
            "Cust-id    Name       order      Phone      \n",
            "Cust-001   Joe        ChocCake   123456    \n",
            "Cust-004   Jack       Bagels     456789    \n",
            "Cust-003   Jill       Scones     546789    \n",
            "Cust-002   Pat        CupCakes   Nil       \n"
          ]
        }
      ],
      "source": [
        "# Format Method to extract output from dictionaries in list:\n",
        "\n",
        "customers = [\n",
        "{'id':'Cust-001', 'Cust_name':'Joe', 'order':'ChocCake', 'phone':'123456'},\n",
        "{'id':'Cust-002', 'Cust_name':'Pat', 'order':'CupCakes', 'phone':'Nil'},\n",
        "{'id':'Cust-003', 'Cust_name':'Jill', 'order':'Scones', 'phone':'546789'},\n",
        "{'id':'Cust-004', 'Cust_name':'Jack',  'order':'Bagels','phone':'456789'},\n",
        "]\n",
        "\n",
        "## 1. print heading row using format function:\n",
        "### !! free to define a length, counted from end of previous item.\n",
        "width = '{0:10}'\n",
        "heading = {\"Cust-id\": \"001\", \"Name\":\"Joe\", \"order\":\"Cake\", \"Phone\": \"123456\"}\n",
        "for head in heading: \n",
        "        print('{0:10}'.format(head), end=' ')\n",
        "\n",
        "## 2 define a function to extract any designated key (phone here) from each dictionary:\n",
        "### !! this is equal to unnamed function = lambda dict: dict.get('phone')\n",
        "def ele_sort (dict):\n",
        "    return dict.get('phone') \n",
        "\n",
        "## 3 here use the simpler lambda function after 'key =':\n",
        "### !! here the 'key =' is a thing in sorted() function, not the key in dictionary.\n",
        "customer_phones = sorted(customers, key = lambda dict: dict.get('phone'))\n",
        "\n",
        "## 4 choose to check the sorted list(with dictionaries in it)\n",
        "## print(customer_phones)\n",
        "\n",
        "## 5 print the out using format function\n",
        "### !! 'customer_phones' can be replaced by ##3 in one line. \n",
        "print('')\n",
        "for customer in customer_phones:\n",
        "    print(width.format(customer['id']), width.format(customer['Cust_name']),\n",
        "      width.format(customer['order']),width.format(customer['phone']))\n",
        "\n",
        "\n"
      ]
    },
    {
      "cell_type": "code",
      "execution_count": 35,
      "metadata": {},
      "outputs": [
        {
          "name": "stdout",
          "output_type": "stream",
          "text": [
            "Poli       Moraes     GA student F         \n",
            "Jayden     LI         GA student M         \n"
          ]
        }
      ],
      "source": [
        "list_names = [dict(\n",
        "    first_name = 'Jayden', \n",
        "    last_name = 'LI', \n",
        "    title = 'GA student',\n",
        "    gender = 'M',\n",
        "    location = 'Sydney'),\n",
        "    dict(first_name = 'Poli', \n",
        "    last_name = 'Moraes', \n",
        "    title = 'GA student',\n",
        "    gender = 'F',\n",
        "    location = 'Sydney')]\n",
        "\n",
        "for student in sorted(list_names,key = lambda x: x.get('last_name'),reverse=True):\n",
        "        print(width.format(student['first_name']), width.format(student['last_name']),\n",
        "      width.format(student['title']),width.format(student['gender'],width.format(student['location'])))\n"
      ]
    },
    {
      "cell_type": "code",
      "execution_count": 28,
      "metadata": {},
      "outputs": [
        {
          "name": "stdout",
          "output_type": "stream",
          "text": [
            "Jayden     LI         GA student\n",
            "Poli       Moraes     GA student\n"
          ]
        }
      ],
      "source": [
        "# Function to retrieve information from dicts in a list\n",
        "\n",
        "list_names = [dict(\n",
        "    first_name = 'Jayden', \n",
        "    last_name = 'LI', \n",
        "    title = 'GA student',\n",
        "    gender = 'M',\n",
        "    location = 'Sydney'),\n",
        "    dict(first_name = 'Poli', \n",
        "    last_name = 'Moraes', \n",
        "    title = 'GA student',\n",
        "    gender = 'F',\n",
        "    location = 'Sydney')]\n",
        "\n",
        "# def name_function (list):\n",
        "#     for dicts in list:\n",
        "#         if dicts['gender'] == 'M':\n",
        "#             he_or_she = 'he'\n",
        "#         elif dicts['gender'] == 'F':\n",
        "#             he_or_she = 'she'\n",
        "#         print (f\"This is {dicts['first_name']} {dicts['last_name']}, {he_or_she} is a {dicts['title']}!\")\n",
        "\n",
        "# name_function(list_names)\n",
        "\n",
        "width = '{0:10}'\n",
        "for person in list_names:\n",
        "    print(width.format(person['first_name']),width.format(person['last_name']),width.format(person['title']))"
      ]
    },
    {
      "cell_type": "code",
      "execution_count": 47,
      "metadata": {},
      "outputs": [
        {
          "name": "stdout",
          "output_type": "stream",
          "text": [
            "['John']\n",
            "John\n",
            "Michael\n"
          ]
        }
      ],
      "source": [
        "# find value with a key: .get('key', 'alt phrase if not found')\n",
        "# find key with a value: .items(), example:\n",
        "\n",
        "## Simple form:\n",
        "keys = [k for k, v in my_dict.items() if v == 1]\n",
        "print(keys)\n",
        "\n",
        "\n",
        "## Create a function\n",
        "my_dict ={\"John\":1, \"Michael\":2, \"Shawn\":3}\n",
        "def get_key(val):\n",
        "    for key, value in my_dict.items():\n",
        "         if val == value:\n",
        "             return key\n",
        " \n",
        "    return \"There is no such Key\"\n",
        "   \n",
        "print(get_key(1))\n",
        "print(get_key(2))\n",
        "\n",
        "\n"
      ]
    },
    {
      "cell_type": "markdown",
      "metadata": {},
      "source": [
        "    ## Funcations"
      ]
    },
    {
      "cell_type": "code",
      "execution_count": 14,
      "metadata": {},
      "outputs": [
        {
          "name": "stdout",
          "output_type": "stream",
          "text": [
            "Welcome!\n"
          ]
        }
      ],
      "source": [
        "def greeting():\n",
        "    print('Welcome!')\n",
        "\n",
        "greeting()"
      ]
    },
    {
      "cell_type": "code",
      "execution_count": 15,
      "metadata": {},
      "outputs": [
        {
          "data": {
            "text/plain": [
              "110.00000000000001"
            ]
          },
          "execution_count": 15,
          "metadata": {},
          "output_type": "execute_result"
        }
      ],
      "source": [
        "def get_total_price (list_price, tax_rate):\n",
        "    total_price = list_price * (1 + tax_rate)\n",
        "    return total_price\n",
        "\n",
        "get_total_price(100,0.1)"
      ]
    },
    {
      "cell_type": "code",
      "execution_count": 18,
      "metadata": {},
      "outputs": [
        {
          "name": "stdout",
          "output_type": "stream",
          "text": [
            "110.00000000000001\n"
          ]
        }
      ],
      "source": [
        "# print(\n",
        "#     get_total_price(\n",
        "#         float(input(\n",
        "#             (\"What is the list price?\"))),\n",
        "#         float(input(\n",
        "#             (\"What is the tax rate?\")),\n",
        "# )))"
      ]
    },
    {
      "cell_type": "code",
      "execution_count": 19,
      "metadata": {},
      "outputs": [],
      "source": [
        "def ad_num (num1, num2):\n",
        "    num_sum = num1 + num2\n",
        "    return num_sum"
      ]
    },
    {
      "cell_type": "code",
      "execution_count": 43,
      "metadata": {},
      "outputs": [
        {
          "name": "stdout",
          "output_type": "stream",
          "text": [
            "[8, 10, 12, 14, 16, 18]\n"
          ]
        }
      ],
      "source": [
        "# Function 'add_list' to add values in two numerical lists:\n",
        "\n",
        "list1 = [1,2,3,4,5,6]\n",
        "list2 = [7,8,9,10,11,12,13,14,15]\n",
        "\n",
        "def add_list (listx, listy):\n",
        "    added_list = []\n",
        "    for indx in range(len(listx)):\n",
        "        added_sum = ad_num(\n",
        "            listx[indx],listy[indx])\n",
        "        added_list.append(added_sum)\n",
        "    print(added_list)\n",
        "    \n",
        "add_list(list1,list2)"
      ]
    },
    {
      "cell_type": "code",
      "execution_count": 24,
      "metadata": {},
      "outputs": [
        {
          "name": "stdout",
          "output_type": "stream",
          "text": [
            "8\n",
            "10\n",
            "12\n",
            "14\n",
            "16\n",
            "18\n"
          ]
        }
      ],
      "source": [
        "for indx in range(len(list1)):\n",
        "    added_sum = ad_num(\n",
        "        list1[indx],list2[indx])\n",
        "    print(added_sum)"
      ]
    },
    {
      "cell_type": "code",
      "execution_count": 25,
      "metadata": {},
      "outputs": [],
      "source": [
        "def mystery_function (list_to_check, value):\n",
        "    for i in range(len(list_to_check)):\n",
        "        if(list_to_check[i]==value):\n",
        "            return i\n",
        "    return 'Number Not Found'"
      ]
    },
    {
      "cell_type": "code",
      "execution_count": 26,
      "metadata": {},
      "outputs": [
        {
          "data": {
            "text/plain": [
              "'Number Not Found'"
            ]
          },
          "execution_count": 26,
          "metadata": {},
          "output_type": "execute_result"
        }
      ],
      "source": [
        "mystery_function(list1,20)"
      ]
    },
    {
      "cell_type": "markdown",
      "metadata": {},
      "source": [
        "    ## Pseudocode for a new employee"
      ]
    },
    {
      "cell_type": "code",
      "execution_count": 27,
      "metadata": {},
      "outputs": [
        {
          "data": {
            "text/plain": [
              "'\\nnew_joinee_function()\\n    * go to gmail\\n    * login\\n    * check inbox\\n    * copy the job number\\n    * open ERP system\\n    * login\\n    * register client information\\n    * register estimated time and expense\\n     \\n'"
            ]
          },
          "execution_count": 27,
          "metadata": {},
          "output_type": "execute_result"
        }
      ],
      "source": [
        "'''\n",
        "new_joinee_function()\n",
        "    * go to gmail\n",
        "    * login\n",
        "    * check inbox\n",
        "    * copy the job number\n",
        "    * open ERP system\n",
        "    * login\n",
        "    * register client information\n",
        "    * register estimated time and expense\n",
        "     \n",
        "'''"
      ]
    },
    {
      "cell_type": "code",
      "execution_count": 28,
      "metadata": {},
      "outputs": [
        {
          "name": "stdout",
          "output_type": "stream",
          "text": [
            "['1', '3', '4', '5', '6', '1', '1', '2', '2', '3', '0']\n",
            "11\n",
            "6\n",
            "0\n"
          ]
        }
      ],
      "source": [
        "# Count characters including spaces in a string, find max/min\n",
        "\n",
        "countlist = list('13 4 5 6 1 12230')\n",
        "while \" \" in countlist:\n",
        "    countlist.remove(\" \")\n",
        "print(countlist)\n",
        "print(len(countlist)) # count characters \n",
        "print(max(countlist)) # find the max\n",
        "print(min(countlist)) # find the min\n"
      ]
    },
    {
      "cell_type": "markdown",
      "metadata": {},
      "source": [
        "    ## functions"
      ]
    },
    {
      "cell_type": "code",
      "execution_count": 17,
      "metadata": {},
      "outputs": [
        {
          "data": {
            "text/plain": [
              "'\\ndef temp_convert():\\n    \\n    choice = input(\"Covert Celius to Fah press F, or Fah to Celcius press C, or to exit X\").lower()\\n    while choice not in (\"c\",\"f\",\"x\"):\\n        choice = input(\"Invalid Value.\\nCovert Celius to Fah press F, or Fah to Celcius press C, or to exit X.\").lower()\\n    if choice == \"c\":\\n        t = int(input(\"Please enter Fah Value: \"))\\n        print(f\"{t} fahrenheit is {(t-32)*5/9} Celsius.\")\\n    elif choice == \"f\":\\n        t = int(input(\"Please enter Cel value: \"))\\n        print(f\"{t} Celsius is {(t*1.8)+32} Fahrenheit.\")\\n    elif choice == \"x\":\\n        exit(\"Sorry to see you go, bye~\")\\n        \\n\\ntemp_convert()\\n'"
            ]
          },
          "execution_count": 17,
          "metadata": {},
          "output_type": "execute_result"
        }
      ],
      "source": [
        "# Convert F and C\n",
        "'''\n",
        "def temp_convert():\n",
        "    \n",
        "    choice = input(\"Covert Celius to Fah press F, or Fah to Celcius press C, or to exit X\").lower()\n",
        "    while choice not in (\"c\",\"f\",\"x\"):\n",
        "        choice = input(\"Invalid Value.\\nCovert Celius to Fah press F, or Fah to Celcius press C, or to exit X.\").lower()\n",
        "    if choice == \"c\":\n",
        "        t = int(input(\"Please enter Fah Value: \"))\n",
        "        print(f\"{t} fahrenheit is {(t-32)*5/9} Celsius.\")\n",
        "    elif choice == \"f\":\n",
        "        t = int(input(\"Please enter Cel value: \"))\n",
        "        print(f\"{t} Celsius is {(t*1.8)+32} Fahrenheit.\")\n",
        "    elif choice == \"x\":\n",
        "        exit(\"Sorry to see you go, bye~\")\n",
        "        \n",
        "\n",
        "temp_convert()\n",
        "'''"
      ]
    },
    {
      "cell_type": "code",
      "execution_count": null,
      "metadata": {},
      "outputs": [],
      "source": []
    },
    {
      "cell_type": "markdown",
      "metadata": {},
      "source": [
        "    ## file to python"
      ]
    },
    {
      "cell_type": "code",
      "execution_count": 29,
      "metadata": {},
      "outputs": [
        {
          "name": "stdout",
          "output_type": "stream",
          "text": [
            "Welcome, here's the file contents:\n",
            "This is testing to create a file. \n",
            "\n",
            "Try to write down something here:\n"
          ]
        }
      ],
      "source": [
        "## Create a txt. file in same directory:\n",
        "\n",
        "with open(\"./Testing_creat_txt.txt\",\"a+\") as test_txt_file:\n",
        "    print(\"Welcome, here's the file contents:\")\n",
        "    test_txt_file.seek(0)\n",
        "    lines = test_txt_file.readlines()\n",
        "    for line in lines:\n",
        "        print(line)"
      ]
    },
    {
      "cell_type": "code",
      "execution_count": 12,
      "metadata": {},
      "outputs": [
        {
          "data": {
            "text/plain": [
              "6"
            ]
          },
          "execution_count": 12,
          "metadata": {},
          "output_type": "execute_result"
        }
      ],
      "source": [
        "response_code = 600\n",
        "int(str(response_code)[0])"
      ]
    },
    {
      "cell_type": "code",
      "execution_count": 13,
      "metadata": {},
      "outputs": [
        {
          "data": {
            "text/plain": [
              "'f:\\\\李振寰\\\\进修 PC\\\\TAFE NSW Python\\\\Coding Drafts'"
            ]
          },
          "execution_count": 13,
          "metadata": {},
          "output_type": "execute_result"
        }
      ],
      "source": [
        "import os\n",
        "os.getcwd()"
      ]
    },
    {
      "cell_type": "code",
      "execution_count": 1,
      "metadata": {},
      "outputs": [],
      "source": [
        "import pandas as pd"
      ]
    },
    {
      "cell_type": "code",
      "execution_count": 19,
      "metadata": {},
      "outputs": [],
      "source": [
        "df_orders = pd.read_csv(r'f:\\\\李振寰\\\\进修 PC\\\\TAFE NSW Python\\\\Coding Drafts\\\\orders.csv',sep=',')"
      ]
    },
    {
      "cell_type": "code",
      "execution_count": 16,
      "metadata": {},
      "outputs": [
        {
          "data": {
            "text/html": [
              "<div>\n",
              "<style scoped>\n",
              "    .dataframe tbody tr th:only-of-type {\n",
              "        vertical-align: middle;\n",
              "    }\n",
              "\n",
              "    .dataframe tbody tr th {\n",
              "        vertical-align: top;\n",
              "    }\n",
              "\n",
              "    .dataframe thead th {\n",
              "        text-align: right;\n",
              "    }\n",
              "</style>\n",
              "<table border=\"1\" class=\"dataframe\">\n",
              "  <thead>\n",
              "    <tr style=\"text-align: right;\">\n",
              "      <th></th>\n",
              "      <th>order_id</th>\n",
              "      <th>order_date</th>\n",
              "      <th>ship_date</th>\n",
              "      <th>ship_mode</th>\n",
              "      <th>customer_id</th>\n",
              "      <th>product_id</th>\n",
              "      <th>sales</th>\n",
              "      <th>quantity</th>\n",
              "      <th>discount</th>\n",
              "      <th>profit</th>\n",
              "      <th>postal_code</th>\n",
              "      <th>region_id</th>\n",
              "    </tr>\n",
              "  </thead>\n",
              "  <tbody>\n",
              "    <tr>\n",
              "      <th>0</th>\n",
              "      <td>AE-2016-1308551</td>\n",
              "      <td>2016-09-28</td>\n",
              "      <td>2016-10-02</td>\n",
              "      <td>Second Class</td>\n",
              "      <td>PO-8865</td>\n",
              "      <td>OFF-FEL-10001405</td>\n",
              "      <td>82.67</td>\n",
              "      <td>2</td>\n",
              "      <td>0.30</td>\n",
              "      <td>0.30</td>\n",
              "      <td>NaN</td>\n",
              "      <td>9954.0</td>\n",
              "    </tr>\n",
              "    <tr>\n",
              "      <th>1</th>\n",
              "      <td>AE-2016-1522857</td>\n",
              "      <td>2016-09-04</td>\n",
              "      <td>2016-09-09</td>\n",
              "      <td>Standard Class</td>\n",
              "      <td>PO-8865</td>\n",
              "      <td>TEC-EPS-10004171</td>\n",
              "      <td>78.41</td>\n",
              "      <td>6</td>\n",
              "      <td>0.50</td>\n",
              "      <td>0.50</td>\n",
              "      <td>NaN</td>\n",
              "      <td>4792.0</td>\n",
              "    </tr>\n",
              "    <tr>\n",
              "      <th>2</th>\n",
              "      <td>AE-2016-184765</td>\n",
              "      <td>2016-10-03</td>\n",
              "      <td>2016-10-07</td>\n",
              "      <td>Second Class</td>\n",
              "      <td>PO-8865</td>\n",
              "      <td>OFF-FEL-10001405</td>\n",
              "      <td>82.67</td>\n",
              "      <td>2</td>\n",
              "      <td>0.30</td>\n",
              "      <td>0.30</td>\n",
              "      <td>NaN</td>\n",
              "      <td>19848.0</td>\n",
              "    </tr>\n",
              "    <tr>\n",
              "      <th>3</th>\n",
              "      <td>AE-2016-1878215</td>\n",
              "      <td>2016-09-15</td>\n",
              "      <td>2016-09-17</td>\n",
              "      <td>Standard Class</td>\n",
              "      <td>PO-8865</td>\n",
              "      <td>TEC-EPS-10004171</td>\n",
              "      <td>78.41</td>\n",
              "      <td>6</td>\n",
              "      <td>0.50</td>\n",
              "      <td>0.50</td>\n",
              "      <td>NaN</td>\n",
              "      <td>1410.0</td>\n",
              "    </tr>\n",
              "    <tr>\n",
              "      <th>4</th>\n",
              "      <td>AE-2016-218276</td>\n",
              "      <td>2016-10-09</td>\n",
              "      <td>2016-10-12</td>\n",
              "      <td>Standard Class</td>\n",
              "      <td>PO-8865</td>\n",
              "      <td>TEC-EPS-10004171</td>\n",
              "      <td>78.41</td>\n",
              "      <td>6</td>\n",
              "      <td>0.50</td>\n",
              "      <td>0.50</td>\n",
              "      <td>NaN</td>\n",
              "      <td>1826.0</td>\n",
              "    </tr>\n",
              "    <tr>\n",
              "      <th>...</th>\n",
              "      <td>...</td>\n",
              "      <td>...</td>\n",
              "      <td>...</td>\n",
              "      <td>...</td>\n",
              "      <td>...</td>\n",
              "      <td>...</td>\n",
              "      <td>...</td>\n",
              "      <td>...</td>\n",
              "      <td>...</td>\n",
              "      <td>...</td>\n",
              "      <td>...</td>\n",
              "      <td>...</td>\n",
              "    </tr>\n",
              "    <tr>\n",
              "      <th>999986</th>\n",
              "      <td>ZI-2020-495856</td>\n",
              "      <td>2020-01-04</td>\n",
              "      <td>2020-01-09</td>\n",
              "      <td>Second Class</td>\n",
              "      <td>JC-5775</td>\n",
              "      <td>OFF-AVE-10000543</td>\n",
              "      <td>1.16</td>\n",
              "      <td>1</td>\n",
              "      <td>0.17</td>\n",
              "      <td>0.09</td>\n",
              "      <td>NaN</td>\n",
              "      <td>3210.0</td>\n",
              "    </tr>\n",
              "    <tr>\n",
              "      <th>999987</th>\n",
              "      <td>ZI-2020-5409624</td>\n",
              "      <td>2020-01-13</td>\n",
              "      <td>2020-01-18</td>\n",
              "      <td>Second Class</td>\n",
              "      <td>JC-5775</td>\n",
              "      <td>OFF-AVE-10000543</td>\n",
              "      <td>1.16</td>\n",
              "      <td>1</td>\n",
              "      <td>0.17</td>\n",
              "      <td>0.09</td>\n",
              "      <td>NaN</td>\n",
              "      <td>3539.0</td>\n",
              "    </tr>\n",
              "    <tr>\n",
              "      <th>999988</th>\n",
              "      <td>ZI-2020-5478741</td>\n",
              "      <td>2020-01-10</td>\n",
              "      <td>2020-01-10</td>\n",
              "      <td>Standard Class</td>\n",
              "      <td>JC-5775</td>\n",
              "      <td>TEC-KON-10003116</td>\n",
              "      <td>71.64</td>\n",
              "      <td>2</td>\n",
              "      <td>0.32</td>\n",
              "      <td>0.23</td>\n",
              "      <td>NaN</td>\n",
              "      <td>3855.0</td>\n",
              "    </tr>\n",
              "    <tr>\n",
              "      <th>999989</th>\n",
              "      <td>ZI-2020-5986855</td>\n",
              "      <td>2020-01-08</td>\n",
              "      <td>2020-01-11</td>\n",
              "      <td>Standard Class</td>\n",
              "      <td>JC-5775</td>\n",
              "      <td>TEC-KON-10003116</td>\n",
              "      <td>71.64</td>\n",
              "      <td>2</td>\n",
              "      <td>0.32</td>\n",
              "      <td>0.23</td>\n",
              "      <td>NaN</td>\n",
              "      <td>783.0</td>\n",
              "    </tr>\n",
              "    <tr>\n",
              "      <th>999990</th>\n",
              "      <td>ZI-2020-863102</td>\n",
              "      <td>2020-01-22</td>\n",
              "      <td>2020-01-27</td>\n",
              "      <td>Standard Class</td>\n",
              "      <td>JM-5250</td>\n",
              "      <td>FUR-SAF-10002314</td>\n",
              "      <td>49.65</td>\n",
              "      <td>1</td>\n",
              "      <td>0.22</td>\n",
              "      <td>0.14</td>\n",
              "      <td>77095.0</td>\n",
              "      <td>1488.0</td>\n",
              "    </tr>\n",
              "  </tbody>\n",
              "</table>\n",
              "<p>999991 rows × 12 columns</p>\n",
              "</div>"
            ],
            "text/plain": [
              "               order_id  order_date   ship_date       ship_mode customer_id  \\\n",
              "0       AE-2016-1308551  2016-09-28  2016-10-02    Second Class     PO-8865   \n",
              "1       AE-2016-1522857  2016-09-04  2016-09-09  Standard Class     PO-8865   \n",
              "2        AE-2016-184765  2016-10-03  2016-10-07    Second Class     PO-8865   \n",
              "3       AE-2016-1878215  2016-09-15  2016-09-17  Standard Class     PO-8865   \n",
              "4        AE-2016-218276  2016-10-09  2016-10-12  Standard Class     PO-8865   \n",
              "...                 ...         ...         ...             ...         ...   \n",
              "999986   ZI-2020-495856  2020-01-04  2020-01-09    Second Class     JC-5775   \n",
              "999987  ZI-2020-5409624  2020-01-13  2020-01-18    Second Class     JC-5775   \n",
              "999988  ZI-2020-5478741  2020-01-10  2020-01-10  Standard Class     JC-5775   \n",
              "999989  ZI-2020-5986855  2020-01-08  2020-01-11  Standard Class     JC-5775   \n",
              "999990   ZI-2020-863102  2020-01-22  2020-01-27  Standard Class     JM-5250   \n",
              "\n",
              "              product_id  sales  quantity  discount  profit  postal_code  \\\n",
              "0       OFF-FEL-10001405  82.67         2      0.30    0.30          NaN   \n",
              "1       TEC-EPS-10004171  78.41         6      0.50    0.50          NaN   \n",
              "2       OFF-FEL-10001405  82.67         2      0.30    0.30          NaN   \n",
              "3       TEC-EPS-10004171  78.41         6      0.50    0.50          NaN   \n",
              "4       TEC-EPS-10004171  78.41         6      0.50    0.50          NaN   \n",
              "...                  ...    ...       ...       ...     ...          ...   \n",
              "999986  OFF-AVE-10000543   1.16         1      0.17    0.09          NaN   \n",
              "999987  OFF-AVE-10000543   1.16         1      0.17    0.09          NaN   \n",
              "999988  TEC-KON-10003116  71.64         2      0.32    0.23          NaN   \n",
              "999989  TEC-KON-10003116  71.64         2      0.32    0.23          NaN   \n",
              "999990  FUR-SAF-10002314  49.65         1      0.22    0.14      77095.0   \n",
              "\n",
              "        region_id  \n",
              "0          9954.0  \n",
              "1          4792.0  \n",
              "2         19848.0  \n",
              "3          1410.0  \n",
              "4          1826.0  \n",
              "...           ...  \n",
              "999986     3210.0  \n",
              "999987     3539.0  \n",
              "999988     3855.0  \n",
              "999989      783.0  \n",
              "999990     1488.0  \n",
              "\n",
              "[999991 rows x 12 columns]"
            ]
          },
          "execution_count": 16,
          "metadata": {},
          "output_type": "execute_result"
        }
      ],
      "source": [
        "pd.read_csv('.\\orders.csv')"
      ]
    },
    {
      "cell_type": "code",
      "execution_count": 22,
      "metadata": {},
      "outputs": [
        {
          "data": {
            "text/plain": [
              "pandas.core.frame.DataFrame"
            ]
          },
          "execution_count": 22,
          "metadata": {},
          "output_type": "execute_result"
        }
      ],
      "source": [
        "type(df_orders)"
      ]
    },
    {
      "cell_type": "code",
      "execution_count": 21,
      "metadata": {},
      "outputs": [
        {
          "data": {
            "text/html": [
              "<div>\n",
              "<style scoped>\n",
              "    .dataframe tbody tr th:only-of-type {\n",
              "        vertical-align: middle;\n",
              "    }\n",
              "\n",
              "    .dataframe tbody tr th {\n",
              "        vertical-align: top;\n",
              "    }\n",
              "\n",
              "    .dataframe thead th {\n",
              "        text-align: right;\n",
              "    }\n",
              "</style>\n",
              "<table border=\"1\" class=\"dataframe\">\n",
              "  <thead>\n",
              "    <tr style=\"text-align: right;\">\n",
              "      <th></th>\n",
              "      <th>order_id</th>\n",
              "      <th>order_date</th>\n",
              "      <th>ship_date</th>\n",
              "      <th>ship_mode</th>\n",
              "      <th>customer_id</th>\n",
              "      <th>product_id</th>\n",
              "      <th>sales</th>\n",
              "      <th>quantity</th>\n",
              "      <th>discount</th>\n",
              "      <th>profit</th>\n",
              "      <th>postal_code</th>\n",
              "      <th>region_id</th>\n",
              "    </tr>\n",
              "  </thead>\n",
              "  <tbody>\n",
              "    <tr>\n",
              "      <th>0</th>\n",
              "      <td>AE-2016-1308551</td>\n",
              "      <td>2016-09-28</td>\n",
              "      <td>2016-10-02</td>\n",
              "      <td>Second Class</td>\n",
              "      <td>PO-8865</td>\n",
              "      <td>OFF-FEL-10001405</td>\n",
              "      <td>82.67</td>\n",
              "      <td>2</td>\n",
              "      <td>0.3</td>\n",
              "      <td>0.3</td>\n",
              "      <td>NaN</td>\n",
              "      <td>9954.0</td>\n",
              "    </tr>\n",
              "    <tr>\n",
              "      <th>1</th>\n",
              "      <td>AE-2016-1522857</td>\n",
              "      <td>2016-09-04</td>\n",
              "      <td>2016-09-09</td>\n",
              "      <td>Standard Class</td>\n",
              "      <td>PO-8865</td>\n",
              "      <td>TEC-EPS-10004171</td>\n",
              "      <td>78.41</td>\n",
              "      <td>6</td>\n",
              "      <td>0.5</td>\n",
              "      <td>0.5</td>\n",
              "      <td>NaN</td>\n",
              "      <td>4792.0</td>\n",
              "    </tr>\n",
              "    <tr>\n",
              "      <th>2</th>\n",
              "      <td>AE-2016-184765</td>\n",
              "      <td>2016-10-03</td>\n",
              "      <td>2016-10-07</td>\n",
              "      <td>Second Class</td>\n",
              "      <td>PO-8865</td>\n",
              "      <td>OFF-FEL-10001405</td>\n",
              "      <td>82.67</td>\n",
              "      <td>2</td>\n",
              "      <td>0.3</td>\n",
              "      <td>0.3</td>\n",
              "      <td>NaN</td>\n",
              "      <td>19848.0</td>\n",
              "    </tr>\n",
              "    <tr>\n",
              "      <th>3</th>\n",
              "      <td>AE-2016-1878215</td>\n",
              "      <td>2016-09-15</td>\n",
              "      <td>2016-09-17</td>\n",
              "      <td>Standard Class</td>\n",
              "      <td>PO-8865</td>\n",
              "      <td>TEC-EPS-10004171</td>\n",
              "      <td>78.41</td>\n",
              "      <td>6</td>\n",
              "      <td>0.5</td>\n",
              "      <td>0.5</td>\n",
              "      <td>NaN</td>\n",
              "      <td>1410.0</td>\n",
              "    </tr>\n",
              "    <tr>\n",
              "      <th>4</th>\n",
              "      <td>AE-2016-218276</td>\n",
              "      <td>2016-10-09</td>\n",
              "      <td>2016-10-12</td>\n",
              "      <td>Standard Class</td>\n",
              "      <td>PO-8865</td>\n",
              "      <td>TEC-EPS-10004171</td>\n",
              "      <td>78.41</td>\n",
              "      <td>6</td>\n",
              "      <td>0.5</td>\n",
              "      <td>0.5</td>\n",
              "      <td>NaN</td>\n",
              "      <td>1826.0</td>\n",
              "    </tr>\n",
              "  </tbody>\n",
              "</table>\n",
              "</div>"
            ],
            "text/plain": [
              "          order_id  order_date   ship_date       ship_mode customer_id  \\\n",
              "0  AE-2016-1308551  2016-09-28  2016-10-02    Second Class     PO-8865   \n",
              "1  AE-2016-1522857  2016-09-04  2016-09-09  Standard Class     PO-8865   \n",
              "2   AE-2016-184765  2016-10-03  2016-10-07    Second Class     PO-8865   \n",
              "3  AE-2016-1878215  2016-09-15  2016-09-17  Standard Class     PO-8865   \n",
              "4   AE-2016-218276  2016-10-09  2016-10-12  Standard Class     PO-8865   \n",
              "\n",
              "         product_id  sales  quantity  discount  profit  postal_code  region_id  \n",
              "0  OFF-FEL-10001405  82.67         2       0.3     0.3          NaN     9954.0  \n",
              "1  TEC-EPS-10004171  78.41         6       0.5     0.5          NaN     4792.0  \n",
              "2  OFF-FEL-10001405  82.67         2       0.3     0.3          NaN    19848.0  \n",
              "3  TEC-EPS-10004171  78.41         6       0.5     0.5          NaN     1410.0  \n",
              "4  TEC-EPS-10004171  78.41         6       0.5     0.5          NaN     1826.0  "
            ]
          },
          "execution_count": 21,
          "metadata": {},
          "output_type": "execute_result"
        }
      ],
      "source": [
        "df_orders.head()"
      ]
    },
    {
      "cell_type": "code",
      "execution_count": null,
      "metadata": {},
      "outputs": [],
      "source": []
    },
    {
      "cell_type": "code",
      "execution_count": null,
      "metadata": {},
      "outputs": [],
      "source": []
    },
    {
      "cell_type": "code",
      "execution_count": null,
      "metadata": {},
      "outputs": [],
      "source": []
    },
    {
      "cell_type": "code",
      "execution_count": null,
      "metadata": {},
      "outputs": [],
      "source": []
    }
  ],
  "metadata": {
    "kernelspec": {
      "display_name": "Python 3.9.7 ('base')",
      "language": "python",
      "name": "python3"
    },
    "language_info": {
      "codemirror_mode": {
        "name": "ipython",
        "version": 3
      },
      "file_extension": ".py",
      "mimetype": "text/x-python",
      "name": "python",
      "nbconvert_exporter": "python",
      "pygments_lexer": "ipython3",
      "version": "3.9.7"
    },
    "vscode": {
      "interpreter": {
        "hash": "a077222d77dfe082b8f1dd562ad70e458ac2ab76993a0b248ab0476e32e9e8dd"
      }
    }
  },
  "nbformat": 4,
  "nbformat_minor": 4
}
