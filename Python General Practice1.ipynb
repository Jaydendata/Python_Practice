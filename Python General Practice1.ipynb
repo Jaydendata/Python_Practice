{
 "cells": [
  {
   "cell_type": "markdown",
   "id": "760fde96",
   "metadata": {},
   "source": [
    "### Variables"
   ]
  },
  {
   "cell_type": "code",
   "execution_count": 1,
   "id": "f9b71bcf",
   "metadata": {},
   "outputs": [],
   "source": [
    "x = 10"
   ]
  },
  {
   "cell_type": "code",
   "execution_count": 2,
   "id": "281447c2",
   "metadata": {},
   "outputs": [
    {
     "data": {
      "text/plain": [
       "10"
      ]
     },
     "execution_count": 2,
     "metadata": {},
     "output_type": "execute_result"
    }
   ],
   "source": [
    "x"
   ]
  },
  {
   "cell_type": "code",
   "execution_count": 3,
   "id": "4ef68b61",
   "metadata": {},
   "outputs": [],
   "source": [
    "string1 = \"Hello World\""
   ]
  },
  {
   "cell_type": "code",
   "execution_count": 4,
   "id": "26f49d12",
   "metadata": {},
   "outputs": [],
   "source": [
    "string2 = \" is beautiful.\""
   ]
  },
  {
   "cell_type": "code",
   "execution_count": 5,
   "id": "83da3926",
   "metadata": {},
   "outputs": [],
   "source": [
    "sentence1 = string1 + string2"
   ]
  },
  {
   "cell_type": "code",
   "execution_count": 6,
   "id": "915ca9d4",
   "metadata": {},
   "outputs": [
    {
     "name": "stdout",
     "output_type": "stream",
     "text": [
      "Hello World is beautiful.\n"
     ]
    }
   ],
   "source": [
    "print(sentence1)"
   ]
  },
  {
   "cell_type": "code",
   "execution_count": 7,
   "id": "5f5864a9",
   "metadata": {},
   "outputs": [],
   "source": [
    "sales1 = 1000"
   ]
  },
  {
   "cell_type": "code",
   "execution_count": 8,
   "id": "564d0065",
   "metadata": {},
   "outputs": [],
   "source": [
    "sales2 = 1,000,000"
   ]
  },
  {
   "cell_type": "code",
   "execution_count": 9,
   "id": "62f5cd86",
   "metadata": {},
   "outputs": [
    {
     "name": "stdout",
     "output_type": "stream",
     "text": [
      "(1, 0, 0) 1000\n"
     ]
    }
   ],
   "source": [
    "print(sales2,sales1)"
   ]
  },
  {
   "cell_type": "code",
   "execution_count": 10,
   "id": "e1a4422a",
   "metadata": {},
   "outputs": [
    {
     "data": {
      "text/plain": [
       "{0: 'H',\n",
       " 1: 'e',\n",
       " 2: 'l',\n",
       " 3: 'l',\n",
       " 4: 'o',\n",
       " 5: ' ',\n",
       " 6: 'W',\n",
       " 7: 'o',\n",
       " 8: 'r',\n",
       " 9: 'l',\n",
       " 10: 'd'}"
      ]
     },
     "execution_count": 10,
     "metadata": {},
     "output_type": "execute_result"
    }
   ],
   "source": [
    "dict(enumerate(string1))"
   ]
  },
  {
   "cell_type": "code",
   "execution_count": 11,
   "id": "934d3828",
   "metadata": {},
   "outputs": [
    {
     "data": {
      "text/plain": [
       "[(0, 'H'),\n",
       " (1, 'e'),\n",
       " (2, 'l'),\n",
       " (3, 'l'),\n",
       " (4, 'o'),\n",
       " (5, ' '),\n",
       " (6, 'W'),\n",
       " (7, 'o'),\n",
       " (8, 'r'),\n",
       " (9, 'l'),\n",
       " (10, 'd')]"
      ]
     },
     "execution_count": 11,
     "metadata": {},
     "output_type": "execute_result"
    }
   ],
   "source": [
    "list(enumerate(string1))"
   ]
  },
  {
   "cell_type": "code",
   "execution_count": null,
   "id": "0863ffde",
   "metadata": {},
   "outputs": [],
   "source": []
  },
  {
   "cell_type": "markdown",
   "id": "f04da733",
   "metadata": {},
   "source": [
    "### DATA TYPES\n",
    "    ## Strings"
   ]
  },
  {
   "cell_type": "code",
   "execution_count": 12,
   "id": "f15915f9",
   "metadata": {},
   "outputs": [],
   "source": [
    "string3 = 'Hello World '"
   ]
  },
  {
   "cell_type": "code",
   "execution_count": 13,
   "id": "28189b30",
   "metadata": {},
   "outputs": [
    {
     "data": {
      "text/plain": [
       "'Hello world '"
      ]
     },
     "execution_count": 13,
     "metadata": {},
     "output_type": "execute_result"
    }
   ],
   "source": [
    "#properies, functions, methods\n",
    "\n",
    "#Capitalize\n",
    "string3.capitalize()"
   ]
  },
  {
   "cell_type": "code",
   "execution_count": 14,
   "id": "e5bec8c8",
   "metadata": {},
   "outputs": [
    {
     "data": {
      "text/plain": [
       "'HELLO WORLD '"
      ]
     },
     "execution_count": 14,
     "metadata": {},
     "output_type": "execute_result"
    }
   ],
   "source": [
    "#Upper case\n",
    "string3.upper()"
   ]
  },
  {
   "cell_type": "code",
   "execution_count": 15,
   "id": "5bd47bb3",
   "metadata": {},
   "outputs": [
    {
     "data": {
      "text/plain": [
       "'Hello World'"
      ]
     },
     "execution_count": 15,
     "metadata": {},
     "output_type": "execute_result"
    }
   ],
   "source": [
    "#Strip blanks\n",
    "string3.strip()"
   ]
  },
  {
   "cell_type": "code",
   "execution_count": 16,
   "id": "33898500",
   "metadata": {},
   "outputs": [
    {
     "data": {
      "text/plain": [
       "'HELLO WORLD'"
      ]
     },
     "execution_count": 16,
     "metadata": {},
     "output_type": "execute_result"
    }
   ],
   "source": [
    "#Right strip\n",
    "string3.rstrip().upper()"
   ]
  },
  {
   "cell_type": "code",
   "execution_count": 17,
   "id": "963077a5",
   "metadata": {},
   "outputs": [
    {
     "data": {
      "text/plain": [
       "2"
      ]
     },
     "execution_count": 17,
     "metadata": {},
     "output_type": "execute_result"
    }
   ],
   "source": [
    "#Count occurance\n",
    "string3.count('l', 3)"
   ]
  },
  {
   "cell_type": "code",
   "execution_count": 18,
   "id": "d5485655",
   "metadata": {},
   "outputs": [
    {
     "name": "stdout",
     "output_type": "stream",
     "text": [
      "['ha', 'ha', 'ha', 'ha', 'ha', 'ha']\n",
      "6\n"
     ]
    }
   ],
   "source": [
    "# Word count - split by space\n",
    "string4 = 'ha ha ha ha ha ha'\n",
    "print(string4.split())\n",
    "print(len(string4.split()))"
   ]
  },
  {
   "cell_type": "code",
   "execution_count": 19,
   "id": "63f142f5",
   "metadata": {},
   "outputs": [
    {
     "name": "stdout",
     "output_type": "stream",
     "text": [
      "['ha', 'ha', 'ha', 'ha ha ha']\n",
      "4\n"
     ]
    }
   ],
   "source": [
    "# Word count - split by comma\n",
    "string5 = 'ha,ha,ha,ha ha ha'\n",
    "print(string5.split(','))\n",
    "print(len(string5.split(',')))\n",
    "\n"
   ]
  },
  {
   "cell_type": "code",
   "execution_count": 20,
   "id": "85f35263",
   "metadata": {},
   "outputs": [
    {
     "data": {
      "text/plain": [
       "6"
      ]
     },
     "execution_count": 20,
     "metadata": {},
     "output_type": "execute_result"
    }
   ],
   "source": [
    "# Find str location\n",
    "string1.find('Wo')"
   ]
  },
  {
   "cell_type": "code",
   "execution_count": 21,
   "id": "9c5bb446",
   "metadata": {},
   "outputs": [
    {
     "data": {
      "text/plain": [
       "6"
      ]
     },
     "execution_count": 21,
     "metadata": {},
     "output_type": "execute_result"
    }
   ],
   "source": [
    "# Index str location\n",
    "string1.index('Wo')"
   ]
  },
  {
   "cell_type": "code",
   "execution_count": 22,
   "id": "3f5b4a2a",
   "metadata": {},
   "outputs": [
    {
     "data": {
      "text/plain": [
       "str"
      ]
     },
     "execution_count": 22,
     "metadata": {},
     "output_type": "execute_result"
    }
   ],
   "source": [
    "# Check type\n",
    "type(string1)"
   ]
  },
  {
   "cell_type": "code",
   "execution_count": 23,
   "id": "c8bd4834",
   "metadata": {},
   "outputs": [
    {
     "name": "stdout",
     "output_type": "stream",
     "text": [
      "\n"
     ]
    }
   ],
   "source": [
    "# Empty value is str\n",
    "string6 = ''\n",
    "type(string6)\n",
    "print(string6)"
   ]
  },
  {
   "cell_type": "code",
   "execution_count": 24,
   "id": "69136f3a",
   "metadata": {},
   "outputs": [
    {
     "name": "stdout",
     "output_type": "stream",
     "text": [
      "Hello World, ha,ha,ha,ha ha ha!\n"
     ]
    }
   ],
   "source": [
    "# String concatenation\n",
    "message1 = string1 + ', ' + string5 + '!'\n",
    "print(message1)"
   ]
  },
  {
   "cell_type": "markdown",
   "id": "de4bec21",
   "metadata": {},
   "source": [
    "    # list"
   ]
  },
  {
   "cell_type": "code",
   "execution_count": 25,
   "id": "42fb3ef6",
   "metadata": {},
   "outputs": [
    {
     "name": "stdout",
     "output_type": "stream",
     "text": [
      "<class 'list'>\n",
      "[1, 2, 3, 4, 5]\n"
     ]
    }
   ],
   "source": [
    "# Create list\n",
    "list1 = [1,2,3,4,5]\n",
    "print(type(list1))\n",
    "print(list1)"
   ]
  },
  {
   "cell_type": "code",
   "execution_count": 26,
   "id": "4c79e42e",
   "metadata": {},
   "outputs": [
    {
     "name": "stdout",
     "output_type": "stream",
     "text": [
      "[]\n"
     ]
    }
   ],
   "source": [
    "# Create empty list\n",
    "list2 = list()\n",
    "print(list2)"
   ]
  },
  {
   "cell_type": "code",
   "execution_count": 27,
   "id": "c2aa7eb6",
   "metadata": {},
   "outputs": [
    {
     "name": "stdout",
     "output_type": "stream",
     "text": [
      "['a', 'b', 'c', 'd', 'e', 'f', 'g']\n",
      "[1, 2, 3, 4, 5, 6]\n",
      "[0, 1, 2, 3, 4, 5, 6]\n"
     ]
    }
   ],
   "source": [
    "# Create with contents\n",
    "list3 = list('abcdefg')\n",
    "print(list3)\n",
    "list1 = list(range(1,7))\n",
    "print(list1)\n",
    "list1 = list(range(7))\n",
    "print(list1)"
   ]
  },
  {
   "cell_type": "code",
   "execution_count": 28,
   "id": "11e0b848",
   "metadata": {},
   "outputs": [
    {
     "name": "stdout",
     "output_type": "stream",
     "text": [
      "[0, 1, 2, 3, 4, 5, 6, 8]\n"
     ]
    }
   ],
   "source": [
    "# Adding a value to the list\n",
    "\n",
    "list1.append(8)\n",
    "print(list1)"
   ]
  },
  {
   "cell_type": "code",
   "execution_count": 29,
   "id": "13f30b1e",
   "metadata": {},
   "outputs": [
    {
     "name": "stdout",
     "output_type": "stream",
     "text": [
      "[0, 1, 2, 4, 5, 6, 8]\n"
     ]
    }
   ],
   "source": [
    "# Delete a value in the list\n",
    "list1.pop(3)\n",
    "print(list1)"
   ]
  },
  {
   "cell_type": "code",
   "execution_count": 30,
   "id": "43bdc8cf",
   "metadata": {},
   "outputs": [
    {
     "name": "stdout",
     "output_type": "stream",
     "text": [
      "[0, 1, 2, 4, 5, 6, 8, 'a', 'b', 'c', 'd', 'e', 'f', 'g']\n"
     ]
    }
   ],
   "source": [
    "# Extend a list\n",
    "list1.extend(list3)\n",
    "print(list1)"
   ]
  },
  {
   "cell_type": "code",
   "execution_count": 31,
   "id": "309899f2",
   "metadata": {},
   "outputs": [
    {
     "name": "stdout",
     "output_type": "stream",
     "text": [
      "['g', 'f', 'e', 'd', 'c', 'b', 'a']\n"
     ]
    }
   ],
   "source": [
    "# Sort a list\n",
    "list3.sort(reverse=True)\n",
    "print(list3)"
   ]
  },
  {
   "cell_type": "code",
   "execution_count": 32,
   "id": "f61ce8ee",
   "metadata": {},
   "outputs": [
    {
     "name": "stdout",
     "output_type": "stream",
     "text": [
      "['g', 'f', 'e', 'd', 'c', 'b', 'a', 8, 6, 5, 4, 2, 1, 0]\n"
     ]
    }
   ],
   "source": [
    "# Reverse a list\n",
    "list1.reverse()\n",
    "print(list1)"
   ]
  },
  {
   "cell_type": "code",
   "execution_count": 33,
   "id": "14350f28",
   "metadata": {},
   "outputs": [
    {
     "name": "stdout",
     "output_type": "stream",
     "text": [
      "['g', 'f', 'e', 'd', 'c', 'b', 'a', 8, 6, 5, 4, 2, 1, 0]\n"
     ]
    }
   ],
   "source": [
    "# Copy a list\n",
    "list1_copy = list1.copy()\n",
    "print(list1_copy)"
   ]
  },
  {
   "cell_type": "code",
   "execution_count": 34,
   "id": "5388b92c",
   "metadata": {},
   "outputs": [
    {
     "name": "stdout",
     "output_type": "stream",
     "text": [
      "[8, 6, 5, 4, 2, 1, 0]\n"
     ]
    }
   ],
   "source": [
    "# Delete ranges in a list\n",
    "\n",
    "del list1_copy[0:7]\n",
    "print(list1_copy)"
   ]
  },
  {
   "cell_type": "code",
   "execution_count": 35,
   "id": "a92e1618",
   "metadata": {},
   "outputs": [
    {
     "data": {
      "text/plain": [
       "['g', 'e', 'c', 'a', 6, 4, 1]"
      ]
     },
     "execution_count": 35,
     "metadata": {},
     "output_type": "execute_result"
    }
   ],
   "source": [
    "# Retrieve every x values:\n",
    "list1[::2]"
   ]
  },
  {
   "cell_type": "code",
   "execution_count": 36,
   "id": "aafd4244",
   "metadata": {},
   "outputs": [
    {
     "data": {
      "text/plain": [
       "['e', 'd', 'c', 'b', 'a', 8, 6, 5, 4, 2, 1]"
      ]
     },
     "execution_count": 36,
     "metadata": {},
     "output_type": "execute_result"
    }
   ],
   "source": [
    "# Retrieve begins from/ends by\n",
    "list1[2:-1]"
   ]
  },
  {
   "cell_type": "markdown",
   "id": "fa96c444",
   "metadata": {},
   "source": [
    "    # dictionary"
   ]
  },
  {
   "cell_type": "code",
   "execution_count": 37,
   "id": "6fe07d28",
   "metadata": {},
   "outputs": [
    {
     "name": "stdout",
     "output_type": "stream",
     "text": [
      "{'a': 1, 'b': 2, 'c': 3, 'd': 4}\n"
     ]
    }
   ],
   "source": [
    "# Create a dictionary\n",
    "dict1 = {'a':1,'b':2,'c':3,'d':4}\n",
    "print(dict1)"
   ]
  },
  {
   "cell_type": "code",
   "execution_count": 38,
   "id": "a12cb7ca",
   "metadata": {},
   "outputs": [
    {
     "name": "stdout",
     "output_type": "stream",
     "text": [
      "{8: 'g', 6: 'f', 5: 'e', 4: 'd', 2: 'c', 1: 'b', 0: 'a'}\n"
     ]
    }
   ],
   "source": [
    "# Create a dictionary by joining two lists\n",
    "dict2 = dict(zip(list1_copy,list3))\n",
    "print(dict2)\n"
   ]
  },
  {
   "cell_type": "code",
   "execution_count": 39,
   "id": "bce85137",
   "metadata": {},
   "outputs": [
    {
     "data": {
      "text/plain": [
       "'c'"
      ]
     },
     "execution_count": 39,
     "metadata": {},
     "output_type": "execute_result"
    }
   ],
   "source": [
    "# Retrieve a value from a dictionary\n",
    "dict2[2]"
   ]
  },
  {
   "cell_type": "code",
   "execution_count": 40,
   "id": "af0e0de3",
   "metadata": {},
   "outputs": [
    {
     "data": {
      "text/plain": [
       "dict_values(['g', 'f', 'e', 'd', 'c', 'b', 'a'])"
      ]
     },
     "execution_count": 40,
     "metadata": {},
     "output_type": "execute_result"
    }
   ],
   "source": [
    "# retrieve all values from a dictionary\n",
    "dict2.values()"
   ]
  },
  {
   "cell_type": "code",
   "execution_count": 41,
   "id": "b3f1ff4b",
   "metadata": {},
   "outputs": [
    {
     "data": {
      "text/plain": [
       "dict_items([(8, 'g'), (6, 'f'), (5, 'e'), (4, 'd'), (2, 'c'), (1, 'b'), (0, 'a')])"
      ]
     },
     "execution_count": 41,
     "metadata": {},
     "output_type": "execute_result"
    }
   ],
   "source": [
    "# retrieve items\n",
    "dict2.items()"
   ]
  },
  {
   "cell_type": "code",
   "execution_count": 60,
   "id": "613b771e",
   "metadata": {},
   "outputs": [
    {
     "data": {
      "text/plain": [
       "[2, 4, 6, 8, 10]"
      ]
     },
     "execution_count": 60,
     "metadata": {},
     "output_type": "execute_result"
    }
   ],
   "source": [
    "# dictionary of lists\n",
    "\n",
    "dict3 = {\n",
    "    'even_nums':[2,4,6,8,10],\n",
    "    'odd_nums':[1,3,5,7,9],\n",
    "    }\n",
    "dict3['even_nums']"
   ]
  },
  {
   "cell_type": "code",
   "execution_count": 43,
   "id": "36dd9e78",
   "metadata": {},
   "outputs": [
    {
     "data": {
      "text/plain": [
       "7"
      ]
     },
     "execution_count": 43,
     "metadata": {},
     "output_type": "execute_result"
    }
   ],
   "source": [
    "# Retrieve key and value from a list in dictionary:\n",
    "\n",
    "dict3['odd_nums'][3]"
   ]
  },
  {
   "cell_type": "code",
   "execution_count": 91,
   "id": "4fb5ecc7",
   "metadata": {},
   "outputs": [
    {
     "name": "stdout",
     "output_type": "stream",
     "text": [
      "A\n",
      "B\n",
      "C\n",
      "D\n"
     ]
    }
   ],
   "source": [
    "# Order the keys - sorted (dict)\n",
    "\n",
    "for letter in sorted(dict1):\n",
    "    print(letter.capitalize())"
   ]
  },
  {
   "cell_type": "code",
   "execution_count": null,
   "id": "3343ca7d",
   "metadata": {},
   "outputs": [
    {
     "name": "stdout",
     "output_type": "stream",
     "text": [
      "Value does not exist.\n"
     ]
    }
   ],
   "source": [
    "# Deal with error/non-existing key - .get()\n",
    "\n",
    "print(dict3.get('num','Value does not exist.'))"
   ]
  },
  {
   "cell_type": "markdown",
   "id": "fef89456",
   "metadata": {},
   "source": [
    "    ### loop in dictionary"
   ]
  },
  {
   "cell_type": "code",
   "execution_count": 66,
   "id": "dbd2bbee",
   "metadata": {},
   "outputs": [
    {
     "name": "stdout",
     "output_type": "stream",
     "text": [
      "dict_items([('a', 1), ('b', 2), ('c', 3), ('d', 4)])\n",
      "\n",
      "key:a\n",
      "value:1\n",
      "\n",
      "key:b\n",
      "value:2\n",
      "\n",
      "key:c\n",
      "value:3\n",
      "\n",
      "key:d\n",
      "value:4\n"
     ]
    }
   ],
   "source": [
    "# Loop - retrieve ALL values - .items() method\n",
    "# 'key' and 'value' can be renamed or printed in f-function\n",
    "print(dict1.items())\n",
    "\n",
    "for key, value in dict1.items():\n",
    "    print(f\"\\nkey:{key}\")\n",
    "    print(f\"value:{value}\")"
   ]
  },
  {
   "cell_type": "code",
   "execution_count": 74,
   "id": "952b2b5a",
   "metadata": {},
   "outputs": [
    {
     "name": "stdout",
     "output_type": "stream",
     "text": [
      "A\n",
      "B\n",
      "C\n",
      "D\n",
      "A\n",
      "B\n",
      "C\n",
      "D\n"
     ]
    }
   ],
   "source": [
    "# Loop - retrieve only KEYs - .keys() method\n",
    "\n",
    "for value in dict1.keys():\n",
    "    print(value.capitalize())\n",
    "\n",
    "# EQUAL To \n",
    "\n",
    "for value in dict1:\n",
    "    print(value.capitalize())"
   ]
  },
  {
   "cell_type": "code",
   "execution_count": 95,
   "id": "a04228c9",
   "metadata": {},
   "outputs": [
    {
     "name": "stdout",
     "output_type": "stream",
     "text": [
      "dict_values(['g', 'f', 'e', 'd', 'c', 'b', 'a'])\n"
     ]
    }
   ],
   "source": [
    "# Retrieve ALL VALUES \n",
    "\n",
    "print(dict2.values())"
   ]
  },
  {
   "cell_type": "code",
   "execution_count": 10,
   "id": "ec0d6a5a",
   "metadata": {},
   "outputs": [
    {
     "name": "stdout",
     "output_type": "stream",
     "text": [
      "911985\n",
      "89999\n",
      "100989\n",
      "Austtin\n",
      "Dallas\n",
      "San Jose\n"
     ]
    },
    {
     "ename": "AttributeError",
     "evalue": "'dict' object has no attribute 'max'",
     "output_type": "error",
     "traceback": [
      "\u001b[1;31m---------------------------------------------------------------------------\u001b[0m",
      "\u001b[1;31mAttributeError\u001b[0m                            Traceback (most recent call last)",
      "\u001b[1;32m~\\AppData\\Local\\Temp/ipykernel_21488/1584958379.py\u001b[0m in \u001b[0;36m<module>\u001b[1;34m\u001b[0m\n\u001b[0;32m      8\u001b[0m \u001b[1;33m\u001b[0m\u001b[0m\n\u001b[0;32m      9\u001b[0m \u001b[1;33m\u001b[0m\u001b[0m\n\u001b[1;32m---> 10\u001b[1;33m \u001b[0mprint\u001b[0m\u001b[1;33m(\u001b[0m\u001b[0msal_info\u001b[0m\u001b[1;33m.\u001b[0m\u001b[0mmax\u001b[0m\u001b[1;33m(\u001b[0m\u001b[1;33m)\u001b[0m\u001b[1;33m)\u001b[0m\u001b[1;33m\u001b[0m\u001b[1;33m\u001b[0m\u001b[0m\n\u001b[0m",
      "\u001b[1;31mAttributeError\u001b[0m: 'dict' object has no attribute 'max'"
     ]
    }
   ],
   "source": [
    "# loop through all values\n",
    "sal_info = {'Austtin': 911985, 'Dallas':89999, 'San Jose' : 100989}\n",
    "\n",
    "for location in sal_info:\n",
    "    print(sal_info[location])\n",
    "for location in sal_info:\n",
    "    print(location)\n"
   ]
  },
  {
   "cell_type": "code",
   "execution_count": null,
   "id": "45ec03af",
   "metadata": {},
   "outputs": [
    {
     "name": "stdout",
     "output_type": "stream",
     "text": [
      "The new alient psoition is: (1, 25).\n"
     ]
    }
   ],
   "source": [
    "# Change values within a dictionary based on other values\n",
    "\n",
    "aliendict = {}\n",
    "aliendict['x_position'] = 0\n",
    "aliendict['y_position'] = 25\n",
    "aliendict['speed'] = 'slow'\n",
    "\n",
    "if aliendict['speed'] == 'slow':\n",
    "    x_increment = 1\n",
    "elif aliendict['speed'] == 'medium':\n",
    "    x_increment = 2\n",
    "else:\n",
    "    x_increment = 3\n",
    "\n",
    "aliendict['x_position'] = aliendict['x_position'] + x_increment\n",
    "\n",
    "print(f\"The new alient psoition is: {aliendict['x_position'], aliendict['y_position']}.\")\n"
   ]
  },
  {
   "cell_type": "code",
   "execution_count": 86,
   "id": "0a6472ed",
   "metadata": {},
   "outputs": [
    {
     "name": "stdout",
     "output_type": "stream",
     "text": [
      "Hi, Jen!\n",
      "What language do you like?\n",
      "Hi, Sarah!\n",
      "I see you love C. Could you tell me why?\n",
      "Hi, Edward!\n",
      "What language do you like?\n",
      "Hi, Phil!\n",
      "I see you love Python. Could you tell me why?\n"
     ]
    }
   ],
   "source": [
    "# Pick out KEYs and their VALUES (linking to a LIST):\n",
    "\n",
    "favorite_languages = {\n",
    "'jen': 'python',\n",
    "'sarah': 'c',\n",
    "'edward': 'ruby',\n",
    "'phil': 'python',\n",
    "}\n",
    "\n",
    "\n",
    "friends = ['phil', 'sarah']\n",
    "\n",
    "for name in favorite_languages:\n",
    "    print(f\"Hi, {name.title()}!\")\n",
    "\n",
    "    if name in friends: # Whether the name is in the list\n",
    "        language = favorite_languages[name].title() # define language\n",
    "        print(f\"I see you love {language.title()}. Could you tell me why?\")\n",
    "    else:\n",
    "        print(\"What language do you like?\")\n"
   ]
  },
  {
   "cell_type": "markdown",
   "id": "5bcfc1c8",
   "metadata": {},
   "source": [
    "    ### Dictionary in List"
   ]
  },
  {
   "cell_type": "code",
   "execution_count": 98,
   "id": "3f1ddad2",
   "metadata": {},
   "outputs": [
    {
     "name": "stdout",
     "output_type": "stream",
     "text": [
      "{'color': 'green', 'points': 5, 'speed': 'slow'}\n",
      "{'color': 'green', 'points': 5, 'speed': 'slow'}\n",
      "{'color': 'green', 'points': 5, 'speed': 'slow'}\n",
      "{'color': 'green', 'points': 5, 'speed': 'slow'}\n",
      "{'color': 'green', 'points': 5, 'speed': 'slow'}\n",
      "...\n",
      "The total number of aliens is 30\n"
     ]
    }
   ],
   "source": [
    "# Alien game - create aliens in a list, show first five:\n",
    "\n",
    "aliens = []\n",
    "\n",
    "for alien_number in range (30): # how many times the loop repeats\n",
    "    new_alien = {'color':'green', 'points':5, 'speed':'slow'} # define element in the list with a dict.\n",
    "    aliens.append(new_alien)\n",
    "\n",
    "for alien in aliens[:5]:\n",
    "    print(alien)\n",
    "print(\"...\")\n",
    "print(f\"The total number of aliens is {len(aliens)}\")\n"
   ]
  },
  {
   "cell_type": "code",
   "execution_count": 99,
   "id": "cc9cb4bb",
   "metadata": {},
   "outputs": [
    {
     "name": "stdout",
     "output_type": "stream",
     "text": [
      "{'color': 'yellow', 'points': 10, 'speed': 'medium'}\n",
      "{'color': 'yellow', 'points': 10, 'speed': 'medium'}\n",
      "{'color': 'yellow', 'points': 10, 'speed': 'medium'}\n",
      "{'color': 'green', 'points': 5, 'speed': 'slow'}\n",
      "{'color': 'green', 'points': 5, 'speed': 'slow'}\n",
      "...\n"
     ]
    }
   ],
   "source": [
    "# make some changes to the dicts within the list:\n",
    "\n",
    "for alien in aliens[:3]:\n",
    "    if alien['color'] == 'green':\n",
    "        alien['color'] = 'yellow' # change all values for the first 3 elements\n",
    "        alien['speed'] = 'medium'\n",
    "        alien['points'] = 10\n",
    "\n",
    "for alien in aliens[:5]:\n",
    "    print(alien)\n",
    "print(\"...\")\n"
   ]
  },
  {
   "cell_type": "markdown",
   "id": "2a52329c",
   "metadata": {},
   "source": [
    "    ### List in Dictionary"
   ]
  },
  {
   "cell_type": "code",
   "execution_count": 106,
   "id": "bda7b0d1",
   "metadata": {},
   "outputs": [
    {
     "name": "stdout",
     "output_type": "stream",
     "text": [
      "You ordered a thick-crust pizza with following toppings:\n",
      "\tmushrooms\n",
      "\textra cheese\n"
     ]
    }
   ],
   "source": [
    "# Pizza order\n",
    "\n",
    "pizza = {\n",
    "    'crust':'thick',\n",
    "    'toppings':['mushrooms','extra cheese']\n",
    "}\n",
    "\n",
    "print(f\"You ordered a {pizza['crust']}-crust pizza with following toppings:\")\n",
    "for topping in pizza['toppings']: # print out elements in a list\n",
    "    print(\"\\t\" + topping)"
   ]
  },
  {
   "cell_type": "markdown",
   "id": "1d41c979",
   "metadata": {},
   "source": [
    "    ### Dictionary in Dictionary"
   ]
  },
  {
   "cell_type": "code",
   "execution_count": null,
   "id": "514a3688",
   "metadata": {},
   "outputs": [],
   "source": [
    "# 1.9 Python Librarian\n",
    "\n",
    "authors = {\n",
    "    \"Arundhati Roy\": {\n",
    "        \"genre\": \"literary fiction\",\n",
    "        \"books\": [\n",
    "            \"The God of Small Things\",\n",
    "            \"The Ministry of Utmost Happiness\"\n",
    "        ],\n",
    "        \"active\": True\n",
    "    },\n",
    "\n",
    "    \"Brandon Sanderson\": {\n",
    "        \"genre\": \"fantasy\",\n",
    "        \"books\": [\n",
    "            \"The Way of Kings\",\n",
    "            \"Words of Radiance\",\n",
    "            \"Oathbringer\"\n",
    "        ],\n",
    "        \"active\": True,\n",
    "        \"phone\": {\n",
    "            \"home\": \"(281) 330-8004\",\n",
    "            \"work\": \"(877) CASH-NOW\"\n",
    "        }\n",
    "    },\n",
    "    \n",
    "    \"Kobo Abe\": {\n",
    "        \"genre\": \"absurdist fiction\",\n",
    "        \"books\": [\n",
    "            \"The Woman in the Dunes\",\n",
    "            \"The Face of Another\"\n",
    "        ],\n",
    "        \"active\": False\n",
    "    },\n",
    "}"
   ]
  },
  {
   "cell_type": "code",
   "execution_count": null,
   "id": "c13b18b5",
   "metadata": {},
   "outputs": [
    {
     "data": {
      "text/plain": [
       "'The God of Small Things'"
      ]
     },
     "metadata": {},
     "output_type": "display_data"
    }
   ],
   "source": [
    "authors['Arundhati Roy']['books'][0]"
   ]
  },
  {
   "cell_type": "code",
   "execution_count": null,
   "id": "5f79fac1",
   "metadata": {},
   "outputs": [
    {
     "data": {
      "text/plain": [
       "False"
      ]
     },
     "metadata": {},
     "output_type": "display_data"
    }
   ],
   "source": [
    "authors['Kobo Abe']['active']"
   ]
  },
  {
   "cell_type": "markdown",
   "id": "47add580",
   "metadata": {},
   "source": [
    "    ### Import File to Dictionary"
   ]
  },
  {
   "cell_type": "code",
   "execution_count": 9,
   "id": "91919449",
   "metadata": {},
   "outputs": [
    {
     "ename": "NameError",
     "evalue": "name 'csv' is not defined",
     "output_type": "error",
     "traceback": [
      "\u001b[1;31m---------------------------------------------------------------------------\u001b[0m",
      "\u001b[1;31mNameError\u001b[0m                                 Traceback (most recent call last)",
      "\u001b[1;32m~\\AppData\\Local\\Temp/ipykernel_21488/536077593.py\u001b[0m in \u001b[0;36m<module>\u001b[1;34m\u001b[0m\n\u001b[0;32m      2\u001b[0m \u001b[1;33m\u001b[0m\u001b[0m\n\u001b[0;32m      3\u001b[0m \u001b[1;32mwith\u001b[0m \u001b[0mopen\u001b[0m\u001b[1;33m(\u001b[0m\u001b[1;34m'treeorderssubsetnodupes.csv'\u001b[0m\u001b[1;33m,\u001b[0m\u001b[0mmode\u001b[0m\u001b[1;33m=\u001b[0m\u001b[1;34m'r'\u001b[0m\u001b[1;33m)\u001b[0m \u001b[1;32mas\u001b[0m \u001b[0minfile\u001b[0m\u001b[1;33m:\u001b[0m\u001b[1;33m\u001b[0m\u001b[1;33m\u001b[0m\u001b[0m\n\u001b[1;32m----> 4\u001b[1;33m     \u001b[0mreader\u001b[0m \u001b[1;33m=\u001b[0m \u001b[0mcsv\u001b[0m\u001b[1;33m.\u001b[0m\u001b[0mreader\u001b[0m\u001b[1;33m(\u001b[0m\u001b[0minfile\u001b[0m\u001b[1;33m)\u001b[0m\u001b[1;33m\u001b[0m\u001b[1;33m\u001b[0m\u001b[0m\n\u001b[0m\u001b[0;32m      5\u001b[0m     \u001b[0mmydict\u001b[0m \u001b[1;33m=\u001b[0m \u001b[1;33m{\u001b[0m\u001b[1;33m}\u001b[0m\u001b[1;33m\u001b[0m\u001b[1;33m\u001b[0m\u001b[0m\n\u001b[0;32m      6\u001b[0m \u001b[1;33m\u001b[0m\u001b[0m\n",
      "\u001b[1;31mNameError\u001b[0m: name 'csv' is not defined"
     ]
    }
   ],
   "source": [
    "# # Import csv. file to dictionary - walk through code.\n",
    "\n",
    "# with open('treeorderssubsetnodupes.csv',mode='r') as infile:\n",
    "#     reader = csv.reader(infile)\n",
    "#     mydict = {}\n",
    "\n",
    "#     for now in reader:\n",
    "#         key = row[0]\n",
    "#         mydict[key] = row[1]       "
   ]
  },
  {
   "cell_type": "code",
   "execution_count": null,
   "id": "a816da4d",
   "metadata": {},
   "outputs": [],
   "source": []
  },
  {
   "cell_type": "markdown",
   "id": "a1f318a2",
   "metadata": {},
   "source": [
    "    # Tuple"
   ]
  },
  {
   "cell_type": "code",
   "execution_count": 48,
   "id": "b6183f7b",
   "metadata": {},
   "outputs": [
    {
     "name": "stdout",
     "output_type": "stream",
     "text": [
      "()\n",
      "<class 'tuple'>\n"
     ]
    }
   ],
   "source": [
    "# Tuples are immutable data types\n",
    "tuple1 = ()\n",
    "print(tuple1)\n",
    "print(type(tuple1))"
   ]
  },
  {
   "cell_type": "code",
   "execution_count": 49,
   "id": "eaf74cc6",
   "metadata": {},
   "outputs": [
    {
     "name": "stdout",
     "output_type": "stream",
     "text": [
      "(10, 20)\n"
     ]
    }
   ],
   "source": [
    "# However, can be changed by re-defining it\n",
    "tuple1 = (10,20)\n",
    "print(tuple1)"
   ]
  },
  {
   "cell_type": "markdown",
   "id": "c3492b28",
   "metadata": {},
   "source": [
    "    # Set"
   ]
  },
  {
   "cell_type": "code",
   "execution_count": 50,
   "id": "93a5bef6",
   "metadata": {},
   "outputs": [
    {
     "name": "stdout",
     "output_type": "stream",
     "text": [
      "<class 'set'>\n",
      "{1, 2, 3}\n"
     ]
    }
   ],
   "source": [
    "# SET data type, stores only unique values. \n",
    "set1 = {1,2,2,2,3}\n",
    "print(type(set1))\n",
    "print(set1)"
   ]
  },
  {
   "cell_type": "code",
   "execution_count": 51,
   "id": "ba517deb",
   "metadata": {},
   "outputs": [
    {
     "data": {
      "text/plain": [
       "{2, 3}"
      ]
     },
     "execution_count": 51,
     "metadata": {},
     "output_type": "execute_result"
    }
   ],
   "source": [
    "# Cross-set functions\n",
    "set2 = {3,2,4,5}\n",
    "set1.intersection(set2)"
   ]
  },
  {
   "cell_type": "code",
   "execution_count": 52,
   "id": "ad270ab9",
   "metadata": {},
   "outputs": [
    {
     "name": "stdout",
     "output_type": "stream",
     "text": [
      "List5 contains: [1, 2, 2, 5, 5, 8, 6, 7]\n",
      "Set3 contains: {1, 2, 5, 6, 7, 8}\n"
     ]
    }
   ],
   "source": [
    "# Convert list into set\n",
    "list5 = [1, 2, 2, 5, 5, 8, 6, 7]\n",
    "set3 = set(list5)\n",
    "print(f\"List5 contains: {list5}\")\n",
    "print(f\"Set3 contains: {set3}\")"
   ]
  },
  {
   "cell_type": "code",
   "execution_count": 53,
   "id": "b4e9fb33",
   "metadata": {},
   "outputs": [
    {
     "name": "stdout",
     "output_type": "stream",
     "text": [
      "f\n",
      "{1, 2, 3}\n",
      "20\n",
      "4\n"
     ]
    }
   ],
   "source": [
    "# Index retrival\n",
    "print(list1[1])\n",
    "print(set1)\n",
    "print(tuple1[1])\n",
    "print(dict3['even_nums'][1])"
   ]
  },
  {
   "cell_type": "code",
   "execution_count": 54,
   "id": "d9e97de6",
   "metadata": {},
   "outputs": [],
   "source": [
    "set1.remove(2)"
   ]
  },
  {
   "cell_type": "code",
   "execution_count": null,
   "id": "85fdbd91",
   "metadata": {},
   "outputs": [],
   "source": []
  },
  {
   "cell_type": "markdown",
   "id": "2a1eb58d",
   "metadata": {},
   "source": [
    "### IF Statements"
   ]
  },
  {
   "cell_type": "code",
   "execution_count": null,
   "id": "993fde70",
   "metadata": {},
   "outputs": [
    {
     "name": "stdout",
     "output_type": "stream",
     "text": [
      "The values are the same!\n",
      "8\n"
     ]
    }
   ],
   "source": [
    "# Example 1\n",
    "value1 = 8\n",
    "value2 = 8\n",
    "if value1 == value2:\n",
    "    print(\"The values are the same!\")\n",
    "    print(value1)"
   ]
  },
  {
   "cell_type": "code",
   "execution_count": null,
   "id": "c7e2cf80",
   "metadata": {},
   "outputs": [
    {
     "name": "stdout",
     "output_type": "stream",
     "text": [
      "We have a tie!\n"
     ]
    }
   ],
   "source": [
    "# Example 2\n",
    "player1_score = 1\n",
    "player2_score = 1\n",
    "\n",
    "if player1_score == player2_score:\n",
    "    print('We have a tie!')\n",
    "elif player1_score > player2_score:\n",
    "    print(\"player one won!\")\n",
    "else:\n",
    "    print(\"player two won!\")"
   ]
  },
  {
   "cell_type": "markdown",
   "id": "c3faf2f3",
   "metadata": {},
   "source": [
    "### Loops"
   ]
  },
  {
   "cell_type": "code",
   "execution_count": null,
   "id": "0f63ecd8",
   "metadata": {},
   "outputs": [
    {
     "name": "stdout",
     "output_type": "stream",
     "text": [
      "1\n",
      "2\n",
      "3\n",
      "4\n",
      "5\n",
      "6\n",
      "7\n",
      "8\n",
      "9\n",
      "10\n"
     ]
    }
   ],
   "source": [
    "number = 0\n",
    "while number < 10:\n",
    "    number += 1\n",
    "    print(number) \n"
   ]
  },
  {
   "cell_type": "code",
   "execution_count": null,
   "id": "5439fe1b",
   "metadata": {},
   "outputs": [
    {
     "name": "stdout",
     "output_type": "stream",
     "text": [
      "[2, 4, 6, 8, 10]\n"
     ]
    }
   ],
   "source": [
    "# Use for loop to create even numbers:\n",
    "\n",
    "numbers = [1,2,3,4,5]\n",
    "even_numbers = [num*2 for num in numbers]\n",
    "print(even_numbers)\n",
    "\n",
    "# Simplified version - using list comprehension\n",
    "new_numbers = [number*2 for number in numbers]\n",
    "print(new_numbers)"
   ]
  },
  {
   "cell_type": "code",
   "execution_count": null,
   "id": "026f6f08",
   "metadata": {},
   "outputs": [
    {
     "name": "stdout",
     "output_type": "stream",
     "text": [
      "[2, 3, 4, 5, 6]\n"
     ]
    }
   ],
   "source": [
    "# Change all numbers in a list:\n",
    "\n",
    "list_length = len(numbers)\n",
    "for i in range(list_length):\n",
    "    numbers[i] = numbers[i] + 1\n",
    "print(numbers)"
   ]
  },
  {
   "cell_type": "code",
   "execution_count": null,
   "id": "dbbcb522",
   "metadata": {},
   "outputs": [
    {
     "name": "stdout",
     "output_type": "stream",
     "text": [
      "[2, 3, 4, 5, 6]\n",
      "2\n",
      "4\n",
      "6\n",
      "8\n",
      "10\n"
     ]
    }
   ],
   "source": [
    "print(numbers)\n",
    "\n",
    "for number in even_numbers:\n",
    "    print(number)"
   ]
  },
  {
   "cell_type": "code",
   "execution_count": null,
   "id": "b9e95abd",
   "metadata": {},
   "outputs": [],
   "source": []
  },
  {
   "cell_type": "code",
   "execution_count": null,
   "id": "85ca01de",
   "metadata": {},
   "outputs": [],
   "source": []
  },
  {
   "cell_type": "code",
   "execution_count": null,
   "id": "05638258",
   "metadata": {},
   "outputs": [],
   "source": []
  },
  {
   "cell_type": "code",
   "execution_count": null,
   "id": "0221505b",
   "metadata": {},
   "outputs": [],
   "source": []
  },
  {
   "cell_type": "code",
   "execution_count": null,
   "id": "afc590e9",
   "metadata": {},
   "outputs": [],
   "source": []
  },
  {
   "cell_type": "code",
   "execution_count": null,
   "id": "269c0dfb",
   "metadata": {},
   "outputs": [],
   "source": []
  }
 ],
 "metadata": {
  "kernelspec": {
   "display_name": "Python 3.9.7 ('base')",
   "language": "python",
   "name": "python3"
  },
  "language_info": {
   "codemirror_mode": {
    "name": "ipython",
    "version": 3
   },
   "file_extension": ".py",
   "mimetype": "text/x-python",
   "name": "python",
   "nbconvert_exporter": "python",
   "pygments_lexer": "ipython3",
   "version": "3.9.7"
  },
  "vscode": {
   "interpreter": {
    "hash": "a077222d77dfe082b8f1dd562ad70e458ac2ab76993a0b248ab0476e32e9e8dd"
   }
  }
 },
 "nbformat": 4,
 "nbformat_minor": 5
}
